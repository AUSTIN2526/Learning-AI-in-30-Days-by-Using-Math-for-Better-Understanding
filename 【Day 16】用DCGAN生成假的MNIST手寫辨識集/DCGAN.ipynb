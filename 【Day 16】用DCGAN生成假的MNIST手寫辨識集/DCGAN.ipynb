{
 "cells": [
  {
   "cell_type": "code",
   "execution_count": 1,
   "metadata": {},
   "outputs": [],
   "source": [
    "import torch\n",
    "import torch.nn as nn\n",
    "import torch.optim as optim\n",
    "import torchvision as tv\n",
    "from torch.utils.data import DataLoader\n",
    "import numpy as np\n",
    "import random\n",
    "from tqdm import tqdm\n",
    "from matplotlib import pyplot as plt\n",
    "\n",
    "def set_seed(seed):\n",
    "    random.seed(seed)\n",
    "    np.random.seed(seed)\n",
    "    torch.manual_seed(seed)\n",
    "    if torch.cuda.is_available():\n",
    "        torch.cuda.manual_seed(seed)\n",
    "        torch.cuda.manual_seed_all(seed)\n",
    "    torch.backends.cudnn.benchmark = False\n",
    "    torch.backends.cudnn.deterministic = True\n",
    "\n",
    "set_seed(0)"
   ]
  },
  {
   "cell_type": "code",
   "execution_count": 2,
   "metadata": {},
   "outputs": [
    {
     "name": "stdout",
     "output_type": "stream",
     "text": [
      "Downloading http://yann.lecun.com/exdb/mnist/train-images-idx3-ubyte.gz\n",
      "Failed to download (trying next):\n",
      "HTTP Error 403: Forbidden\n",
      "\n",
      "Downloading https://ossci-datasets.s3.amazonaws.com/mnist/train-images-idx3-ubyte.gz\n",
      "Downloading https://ossci-datasets.s3.amazonaws.com/mnist/train-images-idx3-ubyte.gz to MNIST/MNIST\\raw\\train-images-idx3-ubyte.gz\n"
     ]
    },
    {
     "name": "stderr",
     "output_type": "stream",
     "text": [
      "100%|██████████| 9912422/9912422 [00:05<00:00, 1760158.13it/s]\n"
     ]
    },
    {
     "name": "stdout",
     "output_type": "stream",
     "text": [
      "Extracting MNIST/MNIST\\raw\\train-images-idx3-ubyte.gz to MNIST/MNIST\\raw\n",
      "\n",
      "Downloading http://yann.lecun.com/exdb/mnist/train-labels-idx1-ubyte.gz\n",
      "Failed to download (trying next):\n",
      "HTTP Error 403: Forbidden\n",
      "\n",
      "Downloading https://ossci-datasets.s3.amazonaws.com/mnist/train-labels-idx1-ubyte.gz\n",
      "Downloading https://ossci-datasets.s3.amazonaws.com/mnist/train-labels-idx1-ubyte.gz to MNIST/MNIST\\raw\\train-labels-idx1-ubyte.gz\n"
     ]
    },
    {
     "name": "stderr",
     "output_type": "stream",
     "text": [
      "100%|██████████| 28881/28881 [00:00<00:00, 141395.72it/s]\n"
     ]
    },
    {
     "name": "stdout",
     "output_type": "stream",
     "text": [
      "Extracting MNIST/MNIST\\raw\\train-labels-idx1-ubyte.gz to MNIST/MNIST\\raw\n",
      "\n",
      "Downloading http://yann.lecun.com/exdb/mnist/t10k-images-idx3-ubyte.gz\n",
      "Failed to download (trying next):\n",
      "HTTP Error 403: Forbidden\n",
      "\n",
      "Downloading https://ossci-datasets.s3.amazonaws.com/mnist/t10k-images-idx3-ubyte.gz\n",
      "Downloading https://ossci-datasets.s3.amazonaws.com/mnist/t10k-images-idx3-ubyte.gz to MNIST/MNIST\\raw\\t10k-images-idx3-ubyte.gz\n"
     ]
    },
    {
     "name": "stderr",
     "output_type": "stream",
     "text": [
      "100%|██████████| 1648877/1648877 [00:03<00:00, 425842.03it/s] \n"
     ]
    },
    {
     "name": "stdout",
     "output_type": "stream",
     "text": [
      "Extracting MNIST/MNIST\\raw\\t10k-images-idx3-ubyte.gz to MNIST/MNIST\\raw\n",
      "\n",
      "Downloading http://yann.lecun.com/exdb/mnist/t10k-labels-idx1-ubyte.gz\n",
      "Failed to download (trying next):\n",
      "HTTP Error 403: Forbidden\n",
      "\n",
      "Downloading https://ossci-datasets.s3.amazonaws.com/mnist/t10k-labels-idx1-ubyte.gz\n",
      "Downloading https://ossci-datasets.s3.amazonaws.com/mnist/t10k-labels-idx1-ubyte.gz to MNIST/MNIST\\raw\\t10k-labels-idx1-ubyte.gz\n"
     ]
    },
    {
     "name": "stderr",
     "output_type": "stream",
     "text": [
      "100%|██████████| 4542/4542 [00:00<00:00, 4543412.54it/s]"
     ]
    },
    {
     "name": "stdout",
     "output_type": "stream",
     "text": [
      "Extracting MNIST/MNIST\\raw\\t10k-labels-idx1-ubyte.gz to MNIST/MNIST\\raw\n",
      "\n"
     ]
    },
    {
     "name": "stderr",
     "output_type": "stream",
     "text": [
      "\n"
     ]
    }
   ],
   "source": [
    "transform = tv.transforms.Compose([\n",
    "    tv.transforms.ToTensor(),\n",
    "    tv.transforms.Normalize(mean=[0.5,], std=[0.5,])\n",
    "])\n",
    "\n",
    "trainset = tv.datasets.MNIST(\"MNIST/\", train=True, transform=transform, download=True)\n",
    "validset = tv.datasets.MNIST(\"MNIST/\", train=False, transform=transform, download=True)\n",
    "dataset = trainset + validset\n",
    "train_loader = DataLoader(dataset, batch_size=128, shuffle=True, num_workers=0, pin_memory=True)"
   ]
  },
  {
   "cell_type": "code",
   "execution_count": 3,
   "metadata": {},
   "outputs": [],
   "source": [
    "class Discriminator(nn.Module):\n",
    "    def __init__(self):\n",
    "        super(Discriminator, self).__init__()\n",
    "        self.D = nn.Sequential(\n",
    "            # input is (1) x 28 x 28\n",
    "            nn.Conv2d(1, 64, 4, 2, 1, bias=False),\n",
    "            nn.BatchNorm2d(64),\n",
    "            nn.LeakyReLU(0.2, inplace=True),\n",
    "            # state size. (64) x 14 x 14\n",
    "            nn.Conv2d(64, 128, 4, 2, 1, bias=False),\n",
    "            nn.BatchNorm2d(128),\n",
    "            nn.LeakyReLU(0.2, inplace=True),\n",
    "            # state size. (128) x 7 x 7\n",
    "            nn.Conv2d(128, 256, 3, 2, 1, bias=False),\n",
    "            nn.BatchNorm2d(256),\n",
    "            nn.LeakyReLU(0.2, inplace=True),\n",
    "            # state size. (256) x 4 x 4\n",
    "            nn.Conv2d(256, 1, 4, 1, 0, bias=False),\n",
    "            # state size. (1) x 1 x 1\n",
    "            nn.Sigmoid()\n",
    "        )\n",
    "\n",
    "    def forward(self, x):\n",
    "        return self.D(x)"
   ]
  },
  {
   "cell_type": "code",
   "execution_count": 4,
   "metadata": {},
   "outputs": [],
   "source": [
    "class Generator(nn.Module):\n",
    "    def __init__(self, noize_dim):\n",
    "\n",
    "        super(Generator, self).__init__()\n",
    "\n",
    "        self.G = nn.Sequential(\n",
    "            # input is (100) x 1 x 1\n",
    "            nn.ConvTranspose2d( noize_dim, 256, 4, 1, 0, bias=False),\n",
    "            nn.BatchNorm2d(256),\n",
    "            nn.ReLU(True),\n",
    "            # state size. (256) x 4 x 4\n",
    "            nn.ConvTranspose2d(256, 128, 4, 2, 1, bias=False),\n",
    "            nn.BatchNorm2d(128),\n",
    "            nn.ReLU(True),\n",
    "            # state size. (128) x 8 x 8\n",
    "            nn.ConvTranspose2d( 128, 64, 4, 2, 1, bias=False),\n",
    "            nn.BatchNorm2d(64),\n",
    "            nn.ReLU(True),\n",
    "            # state size. (64) x 16 x 16\n",
    "            nn.ConvTranspose2d( 64, 1, 4, 2, 3, bias=False),\n",
    "            # state size. (1) x 28 x 28\n",
    "            nn.Tanh()\n",
    "        )\n",
    "\n",
    "    def forward(self, x):\n",
    "        return self.G(x)\n",
    "        \n",
    "device = torch.device('cuda' if torch.cuda.is_available() else 'cpu')\n",
    "noize_dim = 100\n",
    "G = Generator(noize_dim).to(device)\n",
    "D = Discriminator().to(device)\n",
    "criterion = nn.BCELoss()\n",
    "G_optimizer = optim.Adam(G.parameters(), lr = 1e-3)\n",
    "D_optimizer = optim.Adam(D.parameters(), lr = 1e-3)"
   ]
  },
  {
   "cell_type": "code",
   "execution_count": null,
   "metadata": {},
   "outputs": [
    {
     "name": "stderr",
     "output_type": "stream",
     "text": [
      "  0%|          | 0/547 [00:00<?, ?it/s]C:\\Users\\austin\\AppData\\Local\\Temp\\ipykernel_16060\\2026533936.py:9: UserWarning: To copy construct from a tensor, it is recommended to use sourceTensor.clone().detach() or sourceTensor.clone().detach().requires_grad_(True), rather than torch.tensor(sourceTensor).\n",
      "  noise = torch.tensor(torch.randn(x.size(0), noize_dim, 1, 1)).to(device)\n",
      "C:\\Users\\austin\\AppData\\Local\\Temp\\ipykernel_16060\\2026533936.py:23: UserWarning: To copy construct from a tensor, it is recommended to use sourceTensor.clone().detach() or sourceTensor.clone().detach().requires_grad_(True), rather than torch.tensor(sourceTensor).\n",
      "  noise = torch.tensor(torch.randn(x.size(0), noize_dim, 1, 1)).to(device)\n",
      "Train Epoch 0:  19%|█▉        | 105/547 [00:23<01:42,  4.31it/s, D_loss=0.001, G_loss=11.049]"
     ]
    }
   ],
   "source": [
    "def D_train():\n",
    "    D_optimizer.zero_grad()\n",
    "    x_real = x.to(device)\n",
    "    y_real = torch.ones(x.size(0)).to(device)\n",
    "    x_real_predict = D(x_real)\n",
    "    D_real_loss = criterion(x_real_predict.view(-1), y_real)\n",
    "    D_real_loss.backward()\n",
    "\n",
    "    noise = torch.tensor(torch.randn(x.size(0), noize_dim, 1, 1)).to(device)\n",
    "    y_fake = torch.zeros(x.size(0)).to(device)\n",
    "    x_fake = G(noise)\n",
    "    x_fake_predict = D(x_fake)\n",
    "    D_fake_loss = criterion(x_fake_predict.view(-1), y_fake)\n",
    "    D_fake_loss.backward()\n",
    "\n",
    "    D_total_loss = D_real_loss + D_fake_loss\n",
    "    D_optimizer.step()\n",
    "\n",
    "    return D_total_loss.item()\n",
    "\n",
    "def G_train():\n",
    "    G_optimizer.zero_grad()\n",
    "    noise = torch.tensor(torch.randn(x.size(0), noize_dim, 1, 1)).to(device)\n",
    "    y_target = torch.ones(x.size(0)).to(device)\n",
    "    x_fake = G(noise)\n",
    "    y_fake = D(x_fake)\n",
    "    G_loss = criterion(y_fake.view(-1), y_target)\n",
    "    G_loss.backward()\n",
    "    G_optimizer.step()\n",
    "\n",
    "    return G_loss.item()\n",
    "\n",
    "epochs = 1000\n",
    "early_stopping = 100\n",
    "stop_cnt = 0\n",
    "show_loss = True\n",
    "best_loss = float('inf')\n",
    "loss_record = {'Discriminator': [], 'Generator': []}\n",
    "\n",
    "for epoch in range(epochs):\n",
    "    train_pbar = tqdm(train_loader, position=0, leave=True)\n",
    "    D_record, G_record = [], []\n",
    "    for idx, (x, _) in enumerate(train_pbar):\n",
    "        D_loss = D_train()\n",
    "        G_loss = G_train()\n",
    "\n",
    "        D_record.append(D_loss)\n",
    "        G_record.append(G_loss)\n",
    "        \n",
    "        train_pbar.set_description(f'Train Epoch {epoch}')\n",
    "        train_pbar.set_postfix({'D_loss': f'{D_loss:.3f}', 'G_loss': f'{G_loss:.3f}'})\n",
    "    \n",
    "    D_loss = sum(D_record) / len(D_record)\n",
    "    G_loss = sum(G_record) / len(G_record)\n",
    "\n",
    "    loss_record['Discriminator'].append(D_loss)\n",
    "    loss_record['Generator'].append(G_loss)\n",
    "\n",
    "    if G_loss < best_loss:\n",
    "        best_loss = G_loss\n",
    "        torch.save(D.state_dict(), 'D_model.ckpt')\n",
    "        torch.save(G.state_dict(), 'G_model.ckpt')\n",
    "        print(f'Saving Model With Loss {best_loss:.5f}')\n",
    "        stop_cnt = 0\n",
    "    else:\n",
    "        stop_cnt += 1\n",
    "\n",
    "    if stop_cnt == early_stopping:\n",
    "        output = \"Model can't improve, stop training\"\n",
    "        print('-' * (len(output) + 2))\n",
    "        print(f'|{output}|')\n",
    "        print('-' * (len(output) + 2))\n",
    "        break\n",
    "\n",
    "    print(f'D_Loss: {D_loss:.5f} G_Loss: {G_loss:.5f}', end='| ')\n",
    "    print(f'Best Loss: {best_loss:.5f}', end='\\n\\n')"
   ]
  },
  {
   "cell_type": "code",
   "execution_count": null,
   "metadata": {},
   "outputs": [],
   "source": [
    "import cv2\n",
    "\n",
    "G = Generator(noize_dim)\n",
    "G.load_state_dict(torch.load('G_model.ckpt'))\n",
    "G.eval().to(device)\n",
    "noize = torch.tensor(torch.randn(1, noize_dim, 1, 1)).to(device) \n",
    "fake = G(noize)\n",
    "fake = np.array(fake.detach().cpu())\n",
    "for cnt, img in enumerate(fake):\n",
    "    npimg = (img/2+0.5)*255        \n",
    "    npimg = np.transpose(npimg, (1, 2, 0))      \n",
    "    #cv2.imwrite(f'fake_image/fake_{cnt}.png', npimg.astype('uint8'))\n",
    "plt.imshow(npimg)"
   ]
  }
 ],
 "metadata": {
  "kernelspec": {
   "display_name": "Python 3",
   "language": "python",
   "name": "python3"
  },
  "language_info": {
   "codemirror_mode": {
    "name": "ipython",
    "version": 3
   },
   "file_extension": ".py",
   "mimetype": "text/x-python",
   "name": "python",
   "nbconvert_exporter": "python",
   "pygments_lexer": "ipython3",
   "version": "3.11.9"
  }
 },
 "nbformat": 4,
 "nbformat_minor": 2
}
