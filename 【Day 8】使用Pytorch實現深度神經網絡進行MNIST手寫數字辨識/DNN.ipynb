{
 "cells": [
  {
   "cell_type": "code",
   "execution_count": 1,
   "metadata": {},
   "outputs": [],
   "source": [
    "import torch\n",
    "import torch.nn as nn       # 建立神經網路用\n",
    "import torch.optim as optim # 建立優化器用\n",
    "import torchvision\n",
    "import torchvision.transforms as transforms\n",
    "import matplotlib.pyplot as plt\n",
    "import numpy as np\n",
    "import random"
   ]
  },
  {
   "cell_type": "code",
   "execution_count": 2,
   "metadata": {},
   "outputs": [],
   "source": [
    "# 數據預處理\n",
    "transform = transforms.Compose([transforms.ToTensor(), transforms.Normalize((0.5,), (0.5,))])\n",
    "# 下載 MNIST 數據集\n",
    "train_dataset = torchvision.datasets.MNIST(root='./data', train=True, transform=transform, download=True)\n",
    "test_dataset = torchvision.datasets.MNIST(root='./data', train=False, transform=transform, download=True)\n",
    "\n",
    "train_loader = torch.utils.data.DataLoader(dataset=train_dataset, batch_size=64, shuffle=True)\n",
    "test_loader = torch.utils.data.DataLoader(dataset=test_dataset, batch_size=64, shuffle=False)"
   ]
  },
  {
   "cell_type": "code",
   "execution_count": 3,
   "metadata": {},
   "outputs": [
    {
     "name": "stdout",
     "output_type": "stream",
     "text": [
      "x_train size: torch.Size([60000, 28, 28])\n",
      "y_train size: torch.Size([60000])\n"
     ]
    }
   ],
   "source": [
    "x_train = train_dataset.data    # 圖片\n",
    "y_train = train_dataset.targets # 標籤\n",
    "print(f'x_train size: {x_train.size()}')\n",
    "print(f'y_train size: {y_train.size()}')"
   ]
  },
  {
   "cell_type": "code",
   "execution_count": 4,
   "metadata": {},
   "outputs": [
    {
     "data": {
      "image/png": "[encoded data removed]",
      "text/plain": [
       "<Figure size 1500x300 with 6 Axes>"
      ]
     },
     "metadata": {},
     "output_type": "display_data"
    }
   ],
   "source": [
    "fig, axs = plt.subplots(1, 6, figsize=(15, 3))\n",
    "for i in range(6):\n",
    "    idx = random.randint(0, len(x_train) - 1)\n",
    "    img, label = x_train[idx], y_train[idx]\n",
    "    axs[i].imshow(img, cmap='gray')\n",
    "    axs[i].set_title(f'Label: {label}')\n",
    "    axs[i].axis('off')\n",
    "plt.show()"
   ]
  },
  {
   "cell_type": "code",
   "execution_count": 8,
   "metadata": {},
   "outputs": [],
   "source": [
    "class DNN(nn.Module):\n",
    "        def __init__(self, input_shape, output_shape):\n",
    "            super(DNN, self).__init__()\n",
    "            self.fc1 = nn.Linear(input_shape, 512)  # 輸入->隱藏\n",
    "            self.fc2 = nn.Linear(512, 256)          # 隱藏->隱藏\n",
    "            self.fc3 = nn.Linear(256, 128)          # 隱藏->隱藏\n",
    "            self.fc4 = nn.Linear(128, output_shape) # 隱藏->輸出\n",
    "            self.relu = nn.ReLU()  # 激勵函數\n",
    "        def forward(self, x):\n",
    "            x = x.view(-1, 28 * 28)\n",
    "            x = self.relu(self.fc1(x))\n",
    "            x = self.relu(self.fc2(x))\n",
    "            x = self.relu(self.fc3(x))\n",
    "            x = self.fc4(x)\n",
    "            return x\n",
    "        \n",
    "# 定義損失函數和優化器\n",
    "model = DNN(x_train.shape[1] * x_train.shape[2], len(set(y_train)))\n",
    "criterion = nn.CrossEntropyLoss()        # 計算分類任務時通常會使用CrossEntropyLoss\n",
    "optimizer = optim.Adam(model.parameters(), lr=0.001) # Adam是一個通用性極高的優化器"
   ]
  },
  {
   "cell_type": "code",
   "execution_count": 9,
   "metadata": {},
   "outputs": [
    {
     "name": "stdout",
     "output_type": "stream",
     "text": [
      "Epoch [1/5], Step [100/938], Loss: 2.0323\n",
      "Epoch [1/5], Step [200/938], Loss: 0.4895\n",
      "Epoch [1/5], Step [300/938], Loss: 0.3928\n",
      "Epoch [1/5], Step [400/938], Loss: 0.3448\n",
      "Epoch [1/5], Step [500/938], Loss: 0.2967\n",
      "Epoch [1/5], Step [600/938], Loss: 0.2752\n",
      "Epoch [1/5], Step [700/938], Loss: 0.2475\n",
      "Epoch [1/5], Step [800/938], Loss: 0.2227\n",
      "Epoch [1/5], Step [900/938], Loss: 0.2256\n",
      "Epoch [2/5], Step [100/938], Loss: 0.2071\n",
      "Epoch [2/5], Step [200/938], Loss: 0.1937\n",
      "Epoch [2/5], Step [300/938], Loss: 0.1689\n",
      "Epoch [2/5], Step [400/938], Loss: 0.1636\n",
      "Epoch [2/5], Step [500/938], Loss: 0.1626\n",
      "Epoch [2/5], Step [600/938], Loss: 0.1461\n",
      "Epoch [2/5], Step [700/938], Loss: 0.1473\n",
      "Epoch [2/5], Step [800/938], Loss: 0.1577\n",
      "Epoch [2/5], Step [900/938], Loss: 0.1534\n",
      "Epoch [3/5], Step [100/938], Loss: 0.1163\n",
      "Epoch [3/5], Step [200/938], Loss: 0.1251\n",
      "Epoch [3/5], Step [300/938], Loss: 0.1324\n",
      "Epoch [3/5], Step [400/938], Loss: 0.1164\n",
      "Epoch [3/5], Step [500/938], Loss: 0.1213\n",
      "Epoch [3/5], Step [600/938], Loss: 0.1425\n",
      "Epoch [3/5], Step [700/938], Loss: 0.1115\n",
      "Epoch [3/5], Step [800/938], Loss: 0.0996\n",
      "Epoch [3/5], Step [900/938], Loss: 0.0965\n",
      "Epoch [4/5], Step [100/938], Loss: 0.0961\n",
      "Epoch [4/5], Step [200/938], Loss: 0.0802\n",
      "Epoch [4/5], Step [300/938], Loss: 0.0829\n",
      "Epoch [4/5], Step [400/938], Loss: 0.1004\n",
      "Epoch [4/5], Step [500/938], Loss: 0.0967\n",
      "Epoch [4/5], Step [600/938], Loss: 0.0860\n",
      "Epoch [4/5], Step [700/938], Loss: 0.1003\n",
      "Epoch [4/5], Step [800/938], Loss: 0.0896\n",
      "Epoch [4/5], Step [900/938], Loss: 0.0890\n",
      "Epoch [5/5], Step [100/938], Loss: 0.0899\n",
      "Epoch [5/5], Step [200/938], Loss: 0.0766\n",
      "Epoch [5/5], Step [300/938], Loss: 0.0817\n",
      "Epoch [5/5], Step [400/938], Loss: 0.0795\n",
      "Epoch [5/5], Step [500/938], Loss: 0.0727\n",
      "Epoch [5/5], Step [600/938], Loss: 0.0749\n",
      "Epoch [5/5], Step [700/938], Loss: 0.0830\n",
      "Epoch [5/5], Step [800/938], Loss: 0.0710\n",
      "Epoch [5/5], Step [900/938], Loss: 0.0750\n",
      "Finished Training\n"
     ]
    }
   ],
   "source": [
    "def train_model(model, train_loader, criterion, optimizer, num_epochs=5):\n",
    "    for epoch in range(num_epochs):\n",
    "        running_loss = 0.0\n",
    "        for i, (inputs, labels) in enumerate(train_loader):\n",
    "            # 清空梯度\n",
    "            optimizer.zero_grad()\n",
    "\n",
    "            # 前向傳播\n",
    "            outputs = model(inputs)\n",
    "            loss = criterion(outputs, labels)\n",
    "\n",
    "            # 反向傳播和優化\n",
    "            loss.backward()\n",
    "            optimizer.step()\n",
    "\n",
    "            # 累計損失\n",
    "            running_loss += loss.item() # item()張量轉換成純量\n",
    "            if i % 100 == 99:\n",
    "                print(f'Epoch [{epoch+1}/{num_epochs}], Step [{i+1}/{len(train_loader)}], Loss: {running_loss/100:.4f}')\n",
    "                running_loss = 0.0\n",
    "    print('Finished Training')\n",
    "    \n",
    "train_model(model, train_loader, criterion, optimizer, num_epochs=5)"
   ]
  },
  {
   "cell_type": "code",
   "execution_count": 11,
   "metadata": {},
   "outputs": [
    {
     "data": {
      "image/png": "[encoded data removed]",
      "text/plain": [
       "<Figure size 640x480 with 1 Axes>"
      ]
     },
     "metadata": {},
     "output_type": "display_data"
    }
   ],
   "source": [
    "def predict_random_image(model, test_dataset):\n",
    "    # 隨機選擇一張測試集圖片\n",
    "    idx = random.randint(0, len(test_dataset) - 1)\n",
    "    img, label = test_dataset[idx]\n",
    "    img_reshaped = img.view(-1, 28 * 28)\n",
    "\n",
    "    # 進行預測\n",
    "    model.eval()\n",
    "    with torch.no_grad():\n",
    "        output = model(img_reshaped)\n",
    "        _, predicted = torch.max(output.data, 1)\n",
    "\n",
    "    # 繪製圖片並顯示預測結果\n",
    "    plt.imshow(img.squeeze(), cmap='gray')\n",
    "    plt.title(f'Ground Truth: {label}, Predicted: {predicted.item()}')\n",
    "    plt.axis('off')\n",
    "    plt.show()\n",
    "\n",
    "predict_random_image(model, test_dataset)"
   ]
  },
  {
   "cell_type": "code",
   "execution_count": null,
   "metadata": {},
   "outputs": [],
   "source": []
  }
 ],
 "metadata": {
  "kernelspec": {
   "display_name": "Python 3",
   "language": "python",
   "name": "python3"
  },
  "language_info": {
   "codemirror_mode": {
    "name": "ipython",
    "version": 3
   },
   "file_extension": ".py",
   "mimetype": "text/x-python",
   "name": "python",
   "nbconvert_exporter": "python",
   "pygments_lexer": "ipython3",
   "version": "3.11.9"
  }
 },
 "nbformat": 4,
 "nbformat_minor": 2
}
